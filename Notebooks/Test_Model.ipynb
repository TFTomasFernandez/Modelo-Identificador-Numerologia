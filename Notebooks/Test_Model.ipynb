{
 "cells": [
  {
   "cell_type": "code",
   "execution_count": 1,
   "metadata": {},
   "outputs": [
    {
     "name": "stderr",
     "output_type": "stream",
     "text": [
      "WARNING:absl:Compiled the loaded model, but the compiled metrics have yet to be built. `model.compile_metrics` will be empty until you train or evaluate the model.\n"
     ]
    }
   ],
   "source": [
    "import numpy as np\n",
    "import tensorflow as tf\n",
    "import matplotlib.pyplot as plt\n",
    "import os\n",
    "import pickle\n",
    "from tensorflow.keras.preprocessing import image\n",
    "from PIL import Image\n",
    "\n",
    "# Cargar el modelo\n",
    "modelo = tf.keras.models.load_model('./modelo_completo.h5')\n",
    "\n",
    "# Cargar el LabelEncoder\n",
    "with open('label_encoder.pkl', 'rb') as file:\n",
    "    label_encoder = pickle.load(file)"
   ]
  },
  {
   "cell_type": "code",
   "execution_count": 2,
   "metadata": {},
   "outputs": [],
   "source": [
    "def load_test_image(image_path, img_size=(64, 64)):\n",
    "    img = Image.open(image_path).convert('L')  # Escala de grises\n",
    "    img = img.resize(img_size)  # Redimensionar a 64x64 píxeles\n",
    "    img = np.array(img) / 255.0  # Normalizar\n",
    "    return img.reshape(1, img_size[0], img_size[1], 1)  # Añadir batch dimension"
   ]
  },
  {
   "cell_type": "code",
   "execution_count": 7,
   "metadata": {},
   "outputs": [
    {
     "name": "stdout",
     "output_type": "stream",
     "text": [
      "\u001b[1m1/1\u001b[0m \u001b[32m━━━━━━━━━━━━━━━━━━━━\u001b[0m\u001b[37m\u001b[0m \u001b[1m0s\u001b[0m 19ms/step\n"
     ]
    }
   ],
   "source": [
    "test_image = load_test_image(r\"C:/Users/tomif/Desktop/AI calculadora/extracted_images/=/=_3.jpg\")\n",
    "\n",
    "# Realizar predicción\n",
    "prediccion = modelo.predict(test_image)\n",
    "\n",
    "# Obtener la clase predicha\n",
    "predicted_label = np.argmax(prediccion)\n",
    "\n"
   ]
  },
  {
   "cell_type": "code",
   "execution_count": 8,
   "metadata": {},
   "outputs": [
    {
     "data": {
      "image/png": "[encoded data removed]",
      "text/plain": [
       "<Figure size 640x480 with 1 Axes>"
      ]
     },
     "metadata": {},
     "output_type": "display_data"
    }
   ],
   "source": [
    "# Mostrar la imagen\n",
    "plt.imshow(test_image.reshape(64, 64), cmap='gray')\n",
    "plt.title(f\"Predicción: {label_encoder.inverse_transform([predicted_label])[0]}\")\n",
    "plt.show()"
   ]
  }
 ],
 "metadata": {
  "kernelspec": {
   "display_name": "Python 3",
   "language": "python",
   "name": "python3"
  },
  "language_info": {
   "codemirror_mode": {
    "name": "ipython",
    "version": 3
   },
   "file_extension": ".py",
   "mimetype": "text/x-python",
   "name": "python",
   "nbconvert_exporter": "python",
   "pygments_lexer": "ipython3",
   "version": "3.12.3"
  }
 },
 "nbformat": 4,
 "nbformat_minor": 2
}
