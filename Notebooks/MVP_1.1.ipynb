{
 "cells": [
  {
   "cell_type": "code",
   "execution_count": 15,
   "metadata": {},
   "outputs": [],
   "source": [
    "from tensorflow.keras.datasets import mnist\n",
    "from tensorflow.keras.utils import to_categorical\n",
    "from sklearn.preprocessing import LabelEncoder\n",
    "from tensorflow.keras.models import load_model\n",
    "import numpy as np\n",
    "import warnings\n",
    "warnings.filterwarnings(\"ignore\")"
   ]
  },
  {
   "cell_type": "markdown",
   "metadata": {},
   "source": [
    "## Cargamos el dataset MNIST y el Modelo"
   ]
  },
  {
   "cell_type": "code",
   "execution_count": 13,
   "metadata": {},
   "outputs": [
    {
     "name": "stderr",
     "output_type": "stream",
     "text": [
      "WARNING:absl:Compiled the loaded model, but the compiled metrics have yet to be built. `model.compile_metrics` will be empty until you train or evaluate the model.\n"
     ]
    }
   ],
   "source": [
    "# Cargar el modelo completo\n",
    "model = load_model(r'C:/Users/tomif/Desktop/AI calculadora/ruta_a_tu_modelo/modelo_completo.h5')"
   ]
  },
  {
   "cell_type": "code",
   "execution_count": 2,
   "metadata": {},
   "outputs": [],
   "source": [
    "# Cargar el dataset de MNIST\n",
    "(train_images_mnist, train_labels_mnist), (test_images_mnist, test_labels_mnist) = mnist.load_data()\n"
   ]
  },
  {
   "cell_type": "code",
   "execution_count": 3,
   "metadata": {},
   "outputs": [],
   "source": [
    "# Redimensionar las imágenes de MNIST a 64x64 (o el tamaño que estás usando)\n",
    "train_images_mnist_resized = np.array([np.resize(img, (64, 64)) for img in train_images_mnist])\n",
    "test_images_mnist_resized = np.array([np.resize(img, (64, 64)) for img in test_images_mnist])"
   ]
  },
  {
   "cell_type": "code",
   "execution_count": 4,
   "metadata": {},
   "outputs": [],
   "source": [
    "# Normalizar las imágenes\n",
    "train_images_mnist_resized = train_images_mnist_resized / 255.0\n",
    "test_images_mnist_resized = test_images_mnist_resized / 255.0"
   ]
  },
  {
   "cell_type": "code",
   "execution_count": 5,
   "metadata": {},
   "outputs": [],
   "source": [
    "# Agregar una dimensión extra para el canal (escala de grises)\n",
    "train_images_mnist_resized = train_images_mnist_resized.reshape(-1, 64, 64, 1)\n",
    "test_images_mnist_resized = test_images_mnist_resized.reshape(-1, 64, 64, 1)"
   ]
  },
  {
   "cell_type": "code",
   "execution_count": 6,
   "metadata": {},
   "outputs": [],
   "source": [
    "# Convertir etiquetas a one-hot encoding si es necesario\n",
    "train_labels_mnist = to_categorical(train_labels_mnist, 10)\n",
    "test_labels_mnist = to_categorical(test_labels_mnist, 10)"
   ]
  },
  {
   "cell_type": "markdown",
   "metadata": {},
   "source": [
    "### Combinamos MNIST con el conjunto de simbolos"
   ]
  },
  {
   "cell_type": "code",
   "execution_count": 8,
   "metadata": {},
   "outputs": [],
   "source": [
    "# Definir LabelEncoder\n",
    "label_encoder = LabelEncoder()"
   ]
  },
  {
   "cell_type": "code",
   "execution_count": 14,
   "metadata": {},
   "outputs": [
    {
     "ename": "NameError",
     "evalue": "name 'train_labels_symbols' is not defined",
     "output_type": "error",
     "traceback": [
      "\u001b[1;31m---------------------------------------------------------------------------\u001b[0m",
      "\u001b[1;31mNameError\u001b[0m                                 Traceback (most recent call last)",
      "Cell \u001b[1;32mIn[14], line 2\u001b[0m\n\u001b[0;32m      1\u001b[0m \u001b[38;5;66;03m# Codificar las etiquetas de los símbolos\u001b[39;00m\n\u001b[1;32m----> 2\u001b[0m train_labels_symbols_encoded \u001b[38;5;241m=\u001b[39m label_encoder\u001b[38;5;241m.\u001b[39mfit_transform(\u001b[43mtrain_labels_symbols\u001b[49m)\n",
      "\u001b[1;31mNameError\u001b[0m: name 'train_labels_symbols' is not defined"
     ]
    }
   ],
   "source": [
    "# Codificar las etiquetas de los símbolos\n",
    "train_labels_symbols_encoded = label_encoder.fit_transform(train_labels_symbols)"
   ]
  },
  {
   "cell_type": "code",
   "execution_count": null,
   "metadata": {},
   "outputs": [],
   "source": [
    "# Convertir a one-hot encoding para que coincida con MNIST\n",
    "train_labels_symbols_encoded = to_categorical(train_labels_symbols_encoded, num_classes=20)  # Cambia el número según las clases totales"
   ]
  },
  {
   "cell_type": "code",
   "execution_count": null,
   "metadata": {},
   "outputs": [],
   "source": [
    "# Combinar los conjuntos de datos\n",
    "train_images_combined = np.concatenate((train_images_mnist_resized, train_images_symbols), axis=0)\n",
    "train_labels_combined = np.concatenate((train_labels_mnist, train_labels_symbols_encoded), axis=0)"
   ]
  },
  {
   "cell_type": "markdown",
   "metadata": {},
   "source": [
    "## Reentrenamos el Modelo"
   ]
  },
  {
   "cell_type": "code",
   "execution_count": null,
   "metadata": {},
   "outputs": [],
   "source": [
    "# Reentrenar el modelo con las imágenes combinadas\n",
    "model.fit(train_images_combined, train_labels_combined, epochs=10, validation_split=0.1)"
   ]
  },
  {
   "cell_type": "markdown",
   "metadata": {},
   "source": [
    "## Guardamos el modelo"
   ]
  },
  {
   "cell_type": "code",
   "execution_count": null,
   "metadata": {},
   "outputs": [],
   "source": [
    "# Guardar el modelo actualizado\n",
    "model.save('ruta_a_tu_modelo/modelo_completo_con_MNIST.h5')"
   ]
  },
  {
   "cell_type": "markdown",
   "metadata": {},
   "source": [
    "## Hacemos predicciones"
   ]
  },
  {
   "cell_type": "code",
   "execution_count": null,
   "metadata": {},
   "outputs": [],
   "source": []
  },
  {
   "cell_type": "markdown",
   "metadata": {},
   "source": [
    "## Visualizamos las predicciones"
   ]
  },
  {
   "cell_type": "code",
   "execution_count": null,
   "metadata": {},
   "outputs": [],
   "source": []
  }
 ],
 "metadata": {
  "kernelspec": {
   "display_name": "Python 3",
   "language": "python",
   "name": "python3"
  },
  "language_info": {
   "codemirror_mode": {
    "name": "ipython",
    "version": 3
   },
   "file_extension": ".py",
   "mimetype": "text/x-python",
   "name": "python",
   "nbconvert_exporter": "python",
   "pygments_lexer": "ipython3",
   "version": "3.12.3"
  }
 },
 "nbformat": 4,
 "nbformat_minor": 2
}
